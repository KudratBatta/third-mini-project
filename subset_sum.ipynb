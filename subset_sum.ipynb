{
  "nbformat": 4,
  "nbformat_minor": 0,
  "metadata": {
    "colab": {
      "provenance": [],
      "authorship_tag": "ABX9TyOYqzlKgF2PWPmlxNIsZ5wt",
      "include_colab_link": true
    },
    "kernelspec": {
      "name": "python3",
      "display_name": "Python 3"
    },
    "language_info": {
      "name": "python"
    }
  },
  "cells": [
    {
      "cell_type": "markdown",
      "metadata": {
        "id": "view-in-github",
        "colab_type": "text"
      },
      "source": [
        "<a href=\"https://colab.research.google.com/github/KudratBatta/third-mini-project/blob/main/subset_sum.ipynb\" target=\"_parent\"><img src=\"https://colab.research.google.com/assets/colab-badge.svg\" alt=\"Open In Colab\"/></a>"
      ]
    },
    {
      "cell_type": "code",
      "execution_count": 6,
      "metadata": {
        "colab": {
          "base_uri": "https://localhost:8080/"
        },
        "id": "Kt-2fZFvGzT3",
        "outputId": "1b27a634-d83a-404c-fd6c-745200d5aff7"
      },
      "outputs": [
        {
          "output_type": "stream",
          "name": "stdout",
          "text": [
            "(-6, -3, 11, -8, 6)\n",
            "(-12, 9, -5, 2, 6)\n",
            "(-4, 9, 11, -7, -9)\n",
            "(11, -2, -6, -4, 1)\n",
            "(7, -7, -3, 9, -6)\n",
            "(-5, -3, 6, 11, -9)\n",
            "(-12, 3, -4, 6, 7)\n",
            "(-6, -8, -4, 11, 7)\n",
            "(-4, 2, 7, 3, -8)\n",
            "(11, -2, -6, 2, -5)\n",
            "(-2, -5, -7, 11, 3)\n",
            "(-5, 6, -6, 7, -2)\n",
            "(9, -5, -3, 7, -8)\n",
            "(2, -6, -9, 6, 7)\n",
            "(1, 11, -3, -12, 3)\n",
            "(-5, 6, -7, -3, 9)\n",
            "(3, -7, 9, -3, -2)\n",
            "(-12, 1, -2, 11, 2)\n",
            "(7, -9, -7, -2, 11)\n",
            "(7, 1, -5, 9, -12)\n",
            "(1, -2, -4, 2, 3)\n",
            "(2, 7, -9, 6, -6)\n",
            "(9, -3, -9, 11, -8)\n",
            "(3, -2, -4, 1, 2)\n",
            "(11, 7, -6, -9, -3)\n",
            "(6, 2, 1, -3, -6)\n",
            "(-3, 6, -9, -5, 11)\n",
            "(-7, 7, -4, -5, 9)\n",
            "(-9, -3, -2, 3, 11)\n",
            "(-3, 2, -9, 1, 9)\n",
            "\n",
            "Total Sets:  30\n"
          ]
        }
      ],
      "source": [
        "import random as r\n",
        "\n",
        "Set  = set([-12, -3, -6, 7, 2, -2, 6, 3, 9, -7, -5, -8, 1, 11, -9, -4])\n",
        "SetSize     = 5\n",
        "ResultList  = set()\n",
        "Iterations  = 1000\n",
        "\n",
        "for i in range(Iterations):\n",
        "  Chromosome = r.sample(list(Set),SetSize)\n",
        "  sorted(Chromosome)\n",
        "\n",
        "  if sum(Chromosome) == 0:\n",
        "        ResultList.add(tuple(Chromosome))\n",
        "\n",
        "for r in ResultList:\n",
        "\tprint (r)\n",
        "print (\"\\nTotal Sets: \", len(ResultList))\n"
      ]
    }
  ]
}